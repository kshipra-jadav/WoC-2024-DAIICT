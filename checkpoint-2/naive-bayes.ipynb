{
 "cells": [
  {
   "metadata": {},
   "cell_type": "markdown",
   "source": "# Using Naive Bayes Classifier for Review Classification",
   "id": "f119a75a3d7b50d3"
  },
  {
   "metadata": {
    "ExecuteTime": {
     "end_time": "2025-01-15T15:23:20.786801Z",
     "start_time": "2025-01-15T15:23:19.664621Z"
    }
   },
   "cell_type": "code",
   "source": "import pandas as pd",
   "id": "f6bccb46baf9442c",
   "outputs": [],
   "execution_count": 2
  },
  {
   "metadata": {},
   "cell_type": "code",
   "outputs": [
    {
     "data": {
      "text/plain": [
       "           category  rating label  \\\n",
       "0  Home and Kitchen       5    CG   \n",
       "1  Home and Kitchen       5    CG   \n",
       "2  Home and Kitchen       5    CG   \n",
       "3  Home and Kitchen       1    CG   \n",
       "4  Home and Kitchen       5    CG   \n",
       "\n",
       "                                               text_  \\\n",
       "0  Love this!  Well made, sturdy, and very comfor...   \n",
       "1  love it, a great upgrade from the original.  I...   \n",
       "2  This pillow saved my back. I love the look and...   \n",
       "3  Missing information on how to use it, but it i...   \n",
       "4  Very nice set. Good quality. We have had the s...   \n",
       "\n",
       "                                      text_processed  \\\n",
       "0  love well made sturdy comfortable love itvery ...   \n",
       "1  love great upgrade original ive mine couple years   \n",
       "2            pillow saved back love look feel pillow   \n",
       "3        missing information use great product price   \n",
       "4               nice set good quality set two months   \n",
       "\n",
       "                                      text_tokenized  \\\n",
       "0  [love, well, made, sturdy, comfortable, love, ...   \n",
       "1  [love, great, upgrade, original, ive, mine, co...   \n",
       "2    [pillow, saved, back, love, look, feel, pillow]   \n",
       "3  [missing, information, use, great, product, pr...   \n",
       "4       [nice, set, good, quality, set, two, months]   \n",
       "\n",
       "                                     text_embeddings  \n",
       "0  [-0.06552676860000001, 0.0019102807000000001, ...  \n",
       "1  [-0.11993740500000001, 0.0896221548, 0.0629631...  \n",
       "2  [-0.0531752855, 0.0186075028, 0.0380044468, 0....  \n",
       "3  [0.007157366300000001, 0.0636947528, 0.0084662...  \n",
       "4  [-0.0369832478, 0.011753053400000001, 0.041596...  "
      ],
      "text/html": [
       "<div>\n",
       "<style scoped>\n",
       "    .dataframe tbody tr th:only-of-type {\n",
       "        vertical-align: middle;\n",
       "    }\n",
       "\n",
       "    .dataframe tbody tr th {\n",
       "        vertical-align: top;\n",
       "    }\n",
       "\n",
       "    .dataframe thead th {\n",
       "        text-align: right;\n",
       "    }\n",
       "</style>\n",
       "<table border=\"1\" class=\"dataframe\">\n",
       "  <thead>\n",
       "    <tr style=\"text-align: right;\">\n",
       "      <th></th>\n",
       "      <th>category</th>\n",
       "      <th>rating</th>\n",
       "      <th>label</th>\n",
       "      <th>text_</th>\n",
       "      <th>text_processed</th>\n",
       "      <th>text_tokenized</th>\n",
       "      <th>text_embeddings</th>\n",
       "    </tr>\n",
       "  </thead>\n",
       "  <tbody>\n",
       "    <tr>\n",
       "      <th>0</th>\n",
       "      <td>Home and Kitchen</td>\n",
       "      <td>5</td>\n",
       "      <td>CG</td>\n",
       "      <td>Love this!  Well made, sturdy, and very comfor...</td>\n",
       "      <td>love well made sturdy comfortable love itvery ...</td>\n",
       "      <td>[love, well, made, sturdy, comfortable, love, ...</td>\n",
       "      <td>[-0.06552676860000001, 0.0019102807000000001, ...</td>\n",
       "    </tr>\n",
       "    <tr>\n",
       "      <th>1</th>\n",
       "      <td>Home and Kitchen</td>\n",
       "      <td>5</td>\n",
       "      <td>CG</td>\n",
       "      <td>love it, a great upgrade from the original.  I...</td>\n",
       "      <td>love great upgrade original ive mine couple years</td>\n",
       "      <td>[love, great, upgrade, original, ive, mine, co...</td>\n",
       "      <td>[-0.11993740500000001, 0.0896221548, 0.0629631...</td>\n",
       "    </tr>\n",
       "    <tr>\n",
       "      <th>2</th>\n",
       "      <td>Home and Kitchen</td>\n",
       "      <td>5</td>\n",
       "      <td>CG</td>\n",
       "      <td>This pillow saved my back. I love the look and...</td>\n",
       "      <td>pillow saved back love look feel pillow</td>\n",
       "      <td>[pillow, saved, back, love, look, feel, pillow]</td>\n",
       "      <td>[-0.0531752855, 0.0186075028, 0.0380044468, 0....</td>\n",
       "    </tr>\n",
       "    <tr>\n",
       "      <th>3</th>\n",
       "      <td>Home and Kitchen</td>\n",
       "      <td>1</td>\n",
       "      <td>CG</td>\n",
       "      <td>Missing information on how to use it, but it i...</td>\n",
       "      <td>missing information use great product price</td>\n",
       "      <td>[missing, information, use, great, product, pr...</td>\n",
       "      <td>[0.007157366300000001, 0.0636947528, 0.0084662...</td>\n",
       "    </tr>\n",
       "    <tr>\n",
       "      <th>4</th>\n",
       "      <td>Home and Kitchen</td>\n",
       "      <td>5</td>\n",
       "      <td>CG</td>\n",
       "      <td>Very nice set. Good quality. We have had the s...</td>\n",
       "      <td>nice set good quality set two months</td>\n",
       "      <td>[nice, set, good, quality, set, two, months]</td>\n",
       "      <td>[-0.0369832478, 0.011753053400000001, 0.041596...</td>\n",
       "    </tr>\n",
       "  </tbody>\n",
       "</table>\n",
       "</div>"
      ]
     },
     "execution_count": 2,
     "metadata": {},
     "output_type": "execute_result"
    }
   ],
   "execution_count": 2,
   "source": [
    "df = pd.read_json('../checkpoint-1/processed_data.json', orient='records', lines=True)\n",
    "\n",
    "df.head()"
   ],
   "id": "6bb626f87cc9653e"
  },
  {
   "metadata": {},
   "cell_type": "code",
   "outputs": [],
   "execution_count": 23,
   "source": "df = df.dropna()",
   "id": "a3fd25ee83cb3041"
  },
  {
   "metadata": {},
   "cell_type": "code",
   "outputs": [
    {
     "data": {
      "text/plain": [
       "(40408, 40408)"
      ]
     },
     "execution_count": 24,
     "metadata": {},
     "output_type": "execute_result"
    }
   ],
   "execution_count": 24,
   "source": [
    "X = df['text_embeddings'].tolist()\n",
    "y = df['label'].tolist()\n",
    "\n",
    "len(X), len(y)"
   ],
   "id": "35051e0f143fa983"
  },
  {
   "metadata": {},
   "cell_type": "code",
   "outputs": [],
   "execution_count": 25,
   "source": [
    "from sklearn.preprocessing import LabelBinarizer\n",
    "\n",
    "lb = LabelBinarizer()\n",
    "\n",
    "y_encoded = lb.fit_transform(y).reshape(-1) # flattening the array"
   ],
   "id": "a5a6a458053ec929"
  },
  {
   "metadata": {},
   "cell_type": "code",
   "outputs": [],
   "execution_count": 26,
   "source": [
    "from sklearn.model_selection import train_test_split\n",
    "\n",
    "X_train, X_test, y_train, y_test = train_test_split(X, y_encoded, train_size=0.8)"
   ],
   "id": "89199ae18c7b2d79"
  },
  {
   "metadata": {},
   "cell_type": "code",
   "outputs": [
    {
     "name": "stdout",
     "output_type": "stream",
     "text": [
      "Num Samples in Training Set - 32326, 32326\n",
      "Num Samples in Testing Set  - 8082, 8082\n"
     ]
    }
   ],
   "execution_count": 27,
   "source": [
    "print(f\"Num Samples in Training Set - {len(X_train)}, {len(y_train)}\")\n",
    "print(f\"Num Samples in Testing Set  - {len(X_test)}, {len(y_test)}\")"
   ],
   "id": "6d9566c0968ca777"
  },
  {
   "metadata": {},
   "cell_type": "code",
   "outputs": [],
   "execution_count": 29,
   "source": [
    "from sklearn.preprocessing import MinMaxScaler\n",
    "\n",
    "mmscaler = MinMaxScaler()\n",
    "\n",
    "X_train_scaled = mmscaler.fit_transform(X_train)\n",
    "X_test_scaled = mmscaler.transform(X_test)"
   ],
   "id": "15546436b57a7191"
  },
  {
   "metadata": {},
   "cell_type": "markdown",
   "source": "## Getting A Baseline Score",
   "id": "879cc8bdde7c0201"
  }
 ],
 "metadata": {
  "kernelspec": {
   "display_name": "Python 3",
   "language": "python",
   "name": "python3"
  },
  "language_info": {
   "codemirror_mode": {
    "name": "ipython",
    "version": 2
   },
   "file_extension": ".py",
   "mimetype": "text/x-python",
   "name": "python",
   "nbconvert_exporter": "python",
   "pygments_lexer": "ipython2",
   "version": "2.7.6"
  }
 },
 "nbformat": 4,
 "nbformat_minor": 5
}
