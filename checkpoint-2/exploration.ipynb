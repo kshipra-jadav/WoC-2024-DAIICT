{
 "cells": [
  {
   "cell_type": "code",
   "id": "initial_id",
   "metadata": {
    "collapsed": true,
    "ExecuteTime": {
     "end_time": "2025-01-14T03:48:50.421308Z",
     "start_time": "2025-01-14T03:48:50.121103Z"
    }
   },
   "source": "import polars as pd",
   "outputs": [],
   "execution_count": 1
  },
  {
   "metadata": {
    "ExecuteTime": {
     "end_time": "2025-01-14T03:48:51.068636Z",
     "start_time": "2025-01-14T03:48:50.423451Z"
    }
   },
   "cell_type": "code",
   "source": [
    "processed_data = pd.read_ndjson('../checkpoint-1/processed_data.json')\n",
    "\n",
    "processed_data.head()"
   ],
   "id": "23e77673e7714af6",
   "outputs": [
    {
     "data": {
      "text/plain": [
       "shape: (5, 7)\n",
       "┌──────────┬────────┬───────┬─────────────────┬─────────────────┬─────────────────┬────────────────┐\n",
       "│ category ┆ rating ┆ label ┆ text_           ┆ text_processed  ┆ text_tokenized  ┆ text_embedding │\n",
       "│ ---      ┆ ---    ┆ ---   ┆ ---             ┆ ---             ┆ ---             ┆ s              │\n",
       "│ str      ┆ f64    ┆ str   ┆ str             ┆ str             ┆ list[str]       ┆ ---            │\n",
       "│          ┆        ┆       ┆                 ┆                 ┆                 ┆ list[f64]      │\n",
       "╞══════════╪════════╪═══════╪═════════════════╪═════════════════╪═════════════════╪════════════════╡\n",
       "│ Home and ┆ 5.0    ┆ CG    ┆ Love this!      ┆ love well made  ┆ [\"love\",        ┆ [-0.065527,    │\n",
       "│ Kitchen  ┆        ┆       ┆ Well made,      ┆ sturdy          ┆ \"well\", …       ┆ 0.00191, …     │\n",
       "│          ┆        ┆       ┆ sturdy,…        ┆ comforta…       ┆ \"pretty\"]       ┆ 0.02752…       │\n",
       "│ Home and ┆ 5.0    ┆ CG    ┆ love it, a      ┆ love great      ┆ [\"love\",        ┆ [-0.119937,    │\n",
       "│ Kitchen  ┆        ┆       ┆ great upgrade   ┆ upgrade         ┆ \"great\", …      ┆ 0.089622, …    │\n",
       "│          ┆        ┆       ┆ from …          ┆ original iv…    ┆ \"years\"]        ┆ 0.0183…        │\n",
       "│ Home and ┆ 5.0    ┆ CG    ┆ This pillow     ┆ pillow saved    ┆ [\"pillow\",      ┆ [-0.053175,    │\n",
       "│ Kitchen  ┆        ┆       ┆ saved my back.  ┆ back love look  ┆ \"saved\", …      ┆ 0.018608, …    │\n",
       "│          ┆        ┆       ┆ I l…            ┆ fe…             ┆ \"pillow\"…       ┆ -0.020…        │\n",
       "│ Home and ┆ 1.0    ┆ CG    ┆ Missing         ┆ missing         ┆ [\"missing\",     ┆ [0.007157,     │\n",
       "│ Kitchen  ┆        ┆       ┆ information on  ┆ information use ┆ \"information\",  ┆ 0.063695, …    │\n",
       "│          ┆        ┆       ┆ how to …        ┆ great …         ┆ … \"…            ┆ 0.06161…       │\n",
       "│ Home and ┆ 5.0    ┆ CG    ┆ Very nice set.  ┆ nice set good   ┆ [\"nice\", \"set\", ┆ [-0.036983,    │\n",
       "│ Kitchen  ┆        ┆       ┆ Good quality.   ┆ quality set two ┆ … \"months\"]     ┆ 0.011753, …    │\n",
       "│          ┆        ┆       ┆ W…              ┆ …               ┆                 ┆ 0.0755…        │\n",
       "└──────────┴────────┴───────┴─────────────────┴─────────────────┴─────────────────┴────────────────┘"
      ],
      "text/html": [
       "<div><style>\n",
       ".dataframe > thead > tr,\n",
       ".dataframe > tbody > tr {\n",
       "  text-align: right;\n",
       "  white-space: pre-wrap;\n",
       "}\n",
       "</style>\n",
       "<small>shape: (5, 7)</small><table border=\"1\" class=\"dataframe\"><thead><tr><th>category</th><th>rating</th><th>label</th><th>text_</th><th>text_processed</th><th>text_tokenized</th><th>text_embeddings</th></tr><tr><td>str</td><td>f64</td><td>str</td><td>str</td><td>str</td><td>list[str]</td><td>list[f64]</td></tr></thead><tbody><tr><td>&quot;Home and Kitchen&quot;</td><td>5.0</td><td>&quot;CG&quot;</td><td>&quot;Love this!&nbsp;&nbsp;Well made, sturdy,…</td><td>&quot;love well made sturdy comforta…</td><td>[&quot;love&quot;, &quot;well&quot;, … &quot;pretty&quot;]</td><td>[-0.065527, 0.00191, … 0.027523]</td></tr><tr><td>&quot;Home and Kitchen&quot;</td><td>5.0</td><td>&quot;CG&quot;</td><td>&quot;love it, a great upgrade from …</td><td>&quot;love great upgrade original iv…</td><td>[&quot;love&quot;, &quot;great&quot;, … &quot;years&quot;]</td><td>[-0.119937, 0.089622, … 0.018372]</td></tr><tr><td>&quot;Home and Kitchen&quot;</td><td>5.0</td><td>&quot;CG&quot;</td><td>&quot;This pillow saved my back. I l…</td><td>&quot;pillow saved back love look fe…</td><td>[&quot;pillow&quot;, &quot;saved&quot;, … &quot;pillow&quot;]</td><td>[-0.053175, 0.018608, … -0.020651]</td></tr><tr><td>&quot;Home and Kitchen&quot;</td><td>1.0</td><td>&quot;CG&quot;</td><td>&quot;Missing information on how to …</td><td>&quot;missing information use great …</td><td>[&quot;missing&quot;, &quot;information&quot;, … &quot;price&quot;]</td><td>[0.007157, 0.063695, … 0.061616]</td></tr><tr><td>&quot;Home and Kitchen&quot;</td><td>5.0</td><td>&quot;CG&quot;</td><td>&quot;Very nice set. Good quality. W…</td><td>&quot;nice set good quality set two …</td><td>[&quot;nice&quot;, &quot;set&quot;, … &quot;months&quot;]</td><td>[-0.036983, 0.011753, … 0.075562]</td></tr></tbody></table></div>"
      ]
     },
     "execution_count": 2,
     "metadata": {},
     "output_type": "execute_result"
    }
   ],
   "execution_count": 2
  },
  {
   "metadata": {
    "ExecuteTime": {
     "end_time": "2025-01-14T03:48:52.467104Z",
     "start_time": "2025-01-14T03:48:52.451356Z"
    }
   },
   "cell_type": "code",
   "source": "processed_data = processed_data.drop_nulls()",
   "id": "7a742fbf9e8ae22a",
   "outputs": [],
   "execution_count": 3
  },
  {
   "metadata": {
    "ExecuteTime": {
     "end_time": "2025-01-14T03:48:53.264243Z",
     "start_time": "2025-01-14T03:48:53.255933Z"
    }
   },
   "cell_type": "code",
   "source": "processed_data.null_count()",
   "id": "315cae91315f09b7",
   "outputs": [
    {
     "data": {
      "text/plain": [
       "shape: (1, 7)\n",
       "┌──────────┬────────┬───────┬───────┬────────────────┬────────────────┬─────────────────┐\n",
       "│ category ┆ rating ┆ label ┆ text_ ┆ text_processed ┆ text_tokenized ┆ text_embeddings │\n",
       "│ ---      ┆ ---    ┆ ---   ┆ ---   ┆ ---            ┆ ---            ┆ ---             │\n",
       "│ u32      ┆ u32    ┆ u32   ┆ u32   ┆ u32            ┆ u32            ┆ u32             │\n",
       "╞══════════╪════════╪═══════╪═══════╪════════════════╪════════════════╪═════════════════╡\n",
       "│ 0        ┆ 0      ┆ 0     ┆ 0     ┆ 0              ┆ 0              ┆ 0               │\n",
       "└──────────┴────────┴───────┴───────┴────────────────┴────────────────┴─────────────────┘"
      ],
      "text/html": [
       "<div><style>\n",
       ".dataframe > thead > tr,\n",
       ".dataframe > tbody > tr {\n",
       "  text-align: right;\n",
       "  white-space: pre-wrap;\n",
       "}\n",
       "</style>\n",
       "<small>shape: (1, 7)</small><table border=\"1\" class=\"dataframe\"><thead><tr><th>category</th><th>rating</th><th>label</th><th>text_</th><th>text_processed</th><th>text_tokenized</th><th>text_embeddings</th></tr><tr><td>u32</td><td>u32</td><td>u32</td><td>u32</td><td>u32</td><td>u32</td><td>u32</td></tr></thead><tbody><tr><td>0</td><td>0</td><td>0</td><td>0</td><td>0</td><td>0</td><td>0</td></tr></tbody></table></div>"
      ]
     },
     "execution_count": 4,
     "metadata": {},
     "output_type": "execute_result"
    }
   ],
   "execution_count": 4
  },
  {
   "metadata": {
    "ExecuteTime": {
     "end_time": "2025-01-14T03:48:54.791408Z",
     "start_time": "2025-01-14T03:48:54.080338Z"
    }
   },
   "cell_type": "code",
   "source": [
    "X = processed_data['text_embeddings'].to_list()\n",
    "y = processed_data['label'].to_list()\n",
    "\n",
    "len(X), len(y)"
   ],
   "id": "2fdd27493750daf8",
   "outputs": [
    {
     "data": {
      "text/plain": [
       "(40408, 40408)"
      ]
     },
     "execution_count": 5,
     "metadata": {},
     "output_type": "execute_result"
    }
   ],
   "execution_count": 5
  },
  {
   "metadata": {
    "ExecuteTime": {
     "end_time": "2025-01-14T03:49:00.840664Z",
     "start_time": "2025-01-14T03:48:57.446453Z"
    }
   },
   "cell_type": "code",
   "source": [
    "# base preprocessing\n",
    "from sklearn.preprocessing import LabelBinarizer\n",
    "\n",
    "lb = LabelBinarizer()\n",
    "\n",
    "y = lb.fit_transform(y).flatten()"
   ],
   "id": "9a2b8449d200b08e",
   "outputs": [],
   "execution_count": 6
  },
  {
   "metadata": {
    "ExecuteTime": {
     "end_time": "2025-01-14T03:49:00.848384Z",
     "start_time": "2025-01-14T03:49:00.843593Z"
    }
   },
   "cell_type": "code",
   "source": "y = y.flatten()",
   "id": "86d783bc4f85c361",
   "outputs": [],
   "execution_count": 7
  },
  {
   "metadata": {
    "ExecuteTime": {
     "end_time": "2025-01-14T03:49:02.246242Z",
     "start_time": "2025-01-14T03:49:02.227344Z"
    }
   },
   "cell_type": "code",
   "source": "len(X), len(y)",
   "id": "94d02645f9732541",
   "outputs": [
    {
     "data": {
      "text/plain": [
       "(40408, 40408)"
      ]
     },
     "execution_count": 8,
     "metadata": {},
     "output_type": "execute_result"
    }
   ],
   "execution_count": 8
  },
  {
   "metadata": {
    "ExecuteTime": {
     "end_time": "2025-01-14T03:49:04.664554Z",
     "start_time": "2025-01-14T03:49:04.423448Z"
    }
   },
   "cell_type": "code",
   "source": [
    "from sklearn.model_selection import train_test_split\n",
    "\n",
    "X_train, X_test, y_train, y_test = train_test_split(X, y, test_size=0.3, stratify=y)"
   ],
   "id": "cfa05ccee216404c",
   "outputs": [],
   "execution_count": 9
  },
  {
   "metadata": {
    "ExecuteTime": {
     "end_time": "2025-01-14T01:36:08.178193Z",
     "start_time": "2025-01-14T01:36:06.325469Z"
    }
   },
   "cell_type": "code",
   "source": [
    "from sklearn.naive_bayes import GaussianNB\n",
    "\n",
    "gnb = GaussianNB()\n",
    "\n",
    "gnb.fit(X_train, y_train)\n",
    "\n",
    "y_preds_nb = gnb.predict(X_test)"
   ],
   "id": "ca278a17c624757b",
   "outputs": [],
   "execution_count": 80
  },
  {
   "metadata": {
    "ExecuteTime": {
     "end_time": "2025-01-14T01:35:31.409264Z",
     "start_time": "2025-01-14T01:35:29.726503Z"
    }
   },
   "cell_type": "code",
   "source": [
    "from sklearn.linear_model import LogisticRegression\n",
    "\n",
    "logreg = LogisticRegression()\n",
    "\n",
    "logreg.fit(X_train, y_train)\n",
    "\n",
    "y_preds_logreg = logreg.predict(X_test)"
   ],
   "id": "8a91961d615c9ec4",
   "outputs": [],
   "execution_count": 77
  },
  {
   "metadata": {
    "ExecuteTime": {
     "end_time": "2025-01-14T01:38:28.214488Z",
     "start_time": "2025-01-14T01:36:56.491946Z"
    }
   },
   "cell_type": "code",
   "source": [
    "from sklearn.ensemble import RandomForestClassifier\n",
    "\n",
    "rfc = RandomForestClassifier()\n",
    "\n",
    "rfc.fit(X_train, y_train)\n",
    "\n",
    "y_preds_rfc = rfc.predict(X_test)"
   ],
   "id": "9c23b099d821fac2",
   "outputs": [],
   "execution_count": 82
  },
  {
   "metadata": {
    "ExecuteTime": {
     "end_time": "2025-01-14T01:35:45.029052Z",
     "start_time": "2025-01-14T01:35:44.982860Z"
    }
   },
   "cell_type": "code",
   "source": [
    "from sklearn.metrics import classification_report\n",
    "\n",
    "print(classification_report(y_true=y_test, y_pred=y_preds_logreg))"
   ],
   "id": "53c3560299768022",
   "outputs": [
    {
     "name": "stdout",
     "output_type": "stream",
     "text": [
      "              precision    recall  f1-score   support\n",
      "\n",
      "           0       0.58      0.56      0.57      6060\n",
      "           1       0.58      0.60      0.59      6063\n",
      "\n",
      "    accuracy                           0.58     12123\n",
      "   macro avg       0.58      0.58      0.58     12123\n",
      "weighted avg       0.58      0.58      0.58     12123\n",
      "\n"
     ]
    }
   ],
   "execution_count": 79
  },
  {
   "metadata": {},
   "cell_type": "code",
   "outputs": [
    {
     "name": "stdout",
     "output_type": "stream",
     "text": [
      "              precision    recall  f1-score   support\n",
      "\n",
      "           0       0.56      0.56      0.56      6060\n",
      "           1       0.56      0.57      0.57      6063\n",
      "\n",
      "    accuracy                           0.56     12123\n",
      "   macro avg       0.56      0.56      0.56     12123\n",
      "weighted avg       0.56      0.56      0.56     12123\n",
      "\n"
     ]
    }
   ],
   "execution_count": 81,
   "source": "print(classification_report(y_true=y_test, y_pred=y_preds_nb))",
   "id": "7c081e4856068970"
  },
  {
   "metadata": {
    "ExecuteTime": {
     "end_time": "2025-01-14T01:38:28.231619Z",
     "start_time": "2025-01-14T01:38:28.214488Z"
    }
   },
   "cell_type": "code",
   "source": "print(classification_report(y_true=y_test, y_pred=y_preds_rfc))",
   "id": "d088161a00accd31",
   "outputs": [
    {
     "name": "stdout",
     "output_type": "stream",
     "text": [
      "              precision    recall  f1-score   support\n",
      "\n",
      "           0       0.57      0.58      0.57      6060\n",
      "           1       0.57      0.57      0.57      6063\n",
      "\n",
      "    accuracy                           0.57     12123\n",
      "   macro avg       0.57      0.57      0.57     12123\n",
      "weighted avg       0.57      0.57      0.57     12123\n",
      "\n"
     ]
    }
   ],
   "execution_count": 83
  },
  {
   "metadata": {},
   "cell_type": "markdown",
   "source": "Hyperparameter Tuning Logistic Regression",
   "id": "e90ff37230fff6b2"
  },
  {
   "metadata": {
    "ExecuteTime": {
     "end_time": "2025-01-14T02:03:27.250721Z",
     "start_time": "2025-01-14T01:52:41.946861Z"
    }
   },
   "cell_type": "code",
   "source": [
    "from sklearn.model_selection import GridSearchCV\n",
    "\n",
    "param_grid = {\n",
    "    'C': [0.01, 0.1, 1, 10, 100],\n",
    "    'penalty': ['l2', 'l1'],  # Ensure solver supports chosen penalties\n",
    "    'solver': ['liblinear', 'saga'],\n",
    "    'class_weight': [None, 'balanced']\n",
    "}\n",
    "\n",
    "logreg = LogisticRegression()\n",
    "\n",
    "gs = GridSearchCV(estimator=logreg, param_grid=param_grid, cv=5, scoring='accuracy')\n",
    "\n",
    "gs.fit(X_train, y_train)\n",
    "\n",
    "print(\"Best Hyperparameters:\", gs.best_params_)"
   ],
   "id": "25ee61d9201c4459",
   "outputs": [
    {
     "name": "stdout",
     "output_type": "stream",
     "text": [
      "Best Hyperparameters: {'C': 10, 'class_weight': None, 'penalty': 'l1', 'solver': 'liblinear'}\n"
     ]
    }
   ],
   "execution_count": 87
  },
  {
   "metadata": {
    "ExecuteTime": {
     "end_time": "2025-01-14T02:05:58.702164Z",
     "start_time": "2025-01-14T02:05:47.956011Z"
    }
   },
   "cell_type": "code",
   "source": [
    "from sklearn.linear_model import LogisticRegression\n",
    "\n",
    "logreg = LogisticRegression(C=10, class_weight=None, penalty='l1', solver='liblinear')\n",
    "\n",
    "logreg.fit(X_train, y_train)\n",
    "\n",
    "y_preds_logreg = logreg.predict(X_test)\n",
    "\n",
    "print(classification_report(y_true=y_test, y_pred=y_preds_logreg))"
   ],
   "id": "b1e751c108bcf017",
   "outputs": [
    {
     "name": "stdout",
     "output_type": "stream",
     "text": [
      "              precision    recall  f1-score   support\n",
      "\n",
      "           0       0.59      0.57      0.58      6060\n",
      "           1       0.58      0.60      0.59      6063\n",
      "\n",
      "    accuracy                           0.59     12123\n",
      "   macro avg       0.59      0.59      0.59     12123\n",
      "weighted avg       0.59      0.59      0.59     12123\n",
      "\n"
     ]
    }
   ],
   "execution_count": 88
  },
  {
   "metadata": {
    "ExecuteTime": {
     "end_time": "2025-01-14T03:58:45.489301Z",
     "start_time": "2025-01-14T03:58:00.099786Z"
    }
   },
   "cell_type": "code",
   "source": [
    "from sklearn.metrics import accuracy_score\n",
    "from sklearn.neural_network import MLPClassifier\n",
    "\n",
    "mlp = MLPClassifier(hidden_layer_sizes=(128, 64), max_iter=500)\n",
    "\n",
    "mlp.fit(X_train, y_train)\n",
    "\n",
    "y_preds_nlp = mlp.predict(X_test)\n",
    "\n",
    "print(accuracy_score(y_true=y_test, y_pred=y_preds_nlp))"
   ],
   "id": "74374def172c2d99",
   "outputs": [
    {
     "name": "stdout",
     "output_type": "stream",
     "text": [
      "0.577497319145426\n"
     ]
    }
   ],
   "execution_count": 11
  }
 ],
 "metadata": {
  "kernelspec": {
   "display_name": "Python 3",
   "language": "python",
   "name": "python3"
  },
  "language_info": {
   "codemirror_mode": {
    "name": "ipython",
    "version": 2
   },
   "file_extension": ".py",
   "mimetype": "text/x-python",
   "name": "python",
   "nbconvert_exporter": "python",
   "pygments_lexer": "ipython2",
   "version": "2.7.6"
  }
 },
 "nbformat": 4,
 "nbformat_minor": 5
}
