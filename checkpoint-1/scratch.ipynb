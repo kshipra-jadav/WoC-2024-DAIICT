{
 "cells": [
  {
   "cell_type": "code",
   "id": "2e17dff5251b4960",
   "metadata": {
    "collapsed": true,
    "ExecuteTime": {
     "end_time": "2025-01-08T17:22:55.699330Z",
     "start_time": "2025-01-08T17:22:52.720501Z"
    }
   },
   "source": [
    "import re\n",
    "import time\n",
    "\n",
    "import pandas as pd\n",
    "from nltk.tokenize import ToktokTokenizer\n",
    "from nltk.corpus import stopwords as stp\n",
    "from nltk.stem import WordNetLemmatizer\n",
    "from sklearn.feature_extraction.text import TfidfVectorizer\n",
    "\n",
    "\n",
    "def text_normalize(samples: pd.Series) -> pd.Series:\n",
    "    samples = samples.apply(lambda x: x.lower()) # convert all samples to lower case\n",
    "\n",
    "    samples = samples.apply(lambda x: re.sub(r'[^a-zA-Z\\s]', '', x)) # replace any character which is not string or space with blank\n",
    "\n",
    "    return samples"
   ],
   "outputs": [],
   "execution_count": 1
  },
  {
   "metadata": {
    "ExecuteTime": {
     "end_time": "2025-01-08T17:22:55.706472Z",
     "start_time": "2025-01-08T17:22:55.701848Z"
    }
   },
   "cell_type": "code",
   "source": [
    "\n",
    "def text_tokenize(samples: pd.Series) -> pd.Series:\n",
    "    toktok = ToktokTokenizer() # Much better speed than word_tokenize\n",
    "    samples = samples.apply(lambda x: toktok.tokenize(x))\n",
    "\n",
    "    return samples"
   ],
   "id": "6c27d1797dbfae84",
   "outputs": [],
   "execution_count": 2
  },
  {
   "metadata": {
    "ExecuteTime": {
     "end_time": "2025-01-08T17:22:55.715174Z",
     "start_time": "2025-01-08T17:22:55.708897Z"
    }
   },
   "cell_type": "code",
   "source": [
    "\n",
    "def remove_stopwords(samples: pd.Series) -> pd.Series:\n",
    "    stopwords = set(stp.words('english'))\n",
    "    \n",
    "    clean_samples = samples.apply(lambda x: ' '.join([word for word in x.split() if word not in stopwords]))\n",
    "\n",
    "    return clean_samples"
   ],
   "id": "c7b63accef000769",
   "outputs": [],
   "execution_count": 3
  },
  {
   "metadata": {
    "ExecuteTime": {
     "end_time": "2025-01-08T17:22:55.723076Z",
     "start_time": "2025-01-08T17:22:55.717702Z"
    }
   },
   "cell_type": "code",
   "source": [
    "\n",
    "def text_lemmatize(samples: pd.Series) -> pd.Series:\n",
    "    wnl = WordNetLemmatizer()\n",
    "\n",
    "    samples = samples.apply(lambda x: wnl.lemmatize(x))\n",
    "\n",
    "    return samples"
   ],
   "id": "f2910ecbe66128ab",
   "outputs": [],
   "execution_count": 4
  },
  {
   "metadata": {
    "ExecuteTime": {
     "end_time": "2025-01-08T17:22:55.730988Z",
     "start_time": "2025-01-08T17:22:55.725625Z"
    }
   },
   "cell_type": "code",
   "source": [
    "\n",
    "def tfidf(samples: pd.Series) -> pd.Series:\n",
    "    return TfidfVectorizer().fit_transform(samples)"
   ],
   "id": "initial_id",
   "outputs": [],
   "execution_count": 5
  },
  {
   "metadata": {
    "ExecuteTime": {
     "end_time": "2025-01-08T17:22:55.902959Z",
     "start_time": "2025-01-08T17:22:55.733455Z"
    }
   },
   "cell_type": "code",
   "source": [
    "df = pd.read_csv('fakeReviewData.csv')\n",
    "\n",
    "df.head()"
   ],
   "id": "902e5b0ae1f12dd2",
   "outputs": [
    {
     "data": {
      "text/plain": [
       "             category  rating label  \\\n",
       "0  Home_and_Kitchen_5     5.0    CG   \n",
       "1  Home_and_Kitchen_5     5.0    CG   \n",
       "2  Home_and_Kitchen_5     5.0    CG   \n",
       "3  Home_and_Kitchen_5     1.0    CG   \n",
       "4  Home_and_Kitchen_5     5.0    CG   \n",
       "\n",
       "                                               text_  \n",
       "0  Love this!  Well made, sturdy, and very comfor...  \n",
       "1  love it, a great upgrade from the original.  I...  \n",
       "2  This pillow saved my back. I love the look and...  \n",
       "3  Missing information on how to use it, but it i...  \n",
       "4  Very nice set. Good quality. We have had the s...  "
      ],
      "text/html": [
       "<div>\n",
       "<style scoped>\n",
       "    .dataframe tbody tr th:only-of-type {\n",
       "        vertical-align: middle;\n",
       "    }\n",
       "\n",
       "    .dataframe tbody tr th {\n",
       "        vertical-align: top;\n",
       "    }\n",
       "\n",
       "    .dataframe thead th {\n",
       "        text-align: right;\n",
       "    }\n",
       "</style>\n",
       "<table border=\"1\" class=\"dataframe\">\n",
       "  <thead>\n",
       "    <tr style=\"text-align: right;\">\n",
       "      <th></th>\n",
       "      <th>category</th>\n",
       "      <th>rating</th>\n",
       "      <th>label</th>\n",
       "      <th>text_</th>\n",
       "    </tr>\n",
       "  </thead>\n",
       "  <tbody>\n",
       "    <tr>\n",
       "      <th>0</th>\n",
       "      <td>Home_and_Kitchen_5</td>\n",
       "      <td>5.0</td>\n",
       "      <td>CG</td>\n",
       "      <td>Love this!  Well made, sturdy, and very comfor...</td>\n",
       "    </tr>\n",
       "    <tr>\n",
       "      <th>1</th>\n",
       "      <td>Home_and_Kitchen_5</td>\n",
       "      <td>5.0</td>\n",
       "      <td>CG</td>\n",
       "      <td>love it, a great upgrade from the original.  I...</td>\n",
       "    </tr>\n",
       "    <tr>\n",
       "      <th>2</th>\n",
       "      <td>Home_and_Kitchen_5</td>\n",
       "      <td>5.0</td>\n",
       "      <td>CG</td>\n",
       "      <td>This pillow saved my back. I love the look and...</td>\n",
       "    </tr>\n",
       "    <tr>\n",
       "      <th>3</th>\n",
       "      <td>Home_and_Kitchen_5</td>\n",
       "      <td>1.0</td>\n",
       "      <td>CG</td>\n",
       "      <td>Missing information on how to use it, but it i...</td>\n",
       "    </tr>\n",
       "    <tr>\n",
       "      <th>4</th>\n",
       "      <td>Home_and_Kitchen_5</td>\n",
       "      <td>5.0</td>\n",
       "      <td>CG</td>\n",
       "      <td>Very nice set. Good quality. We have had the s...</td>\n",
       "    </tr>\n",
       "  </tbody>\n",
       "</table>\n",
       "</div>"
      ]
     },
     "execution_count": 6,
     "metadata": {},
     "output_type": "execute_result"
    }
   ],
   "execution_count": 6
  },
  {
   "metadata": {
    "ExecuteTime": {
     "end_time": "2025-01-08T17:22:56.198926Z",
     "start_time": "2025-01-08T17:22:55.905133Z"
    }
   },
   "cell_type": "code",
   "source": [
    "df['text_'] = text_normalize(df['text_'])\n",
    "\n",
    "df['text_'][0]"
   ],
   "id": "53fd7384703b2a40",
   "outputs": [
    {
     "data": {
      "text/plain": [
       "'love this  well made sturdy and very comfortable  i love itvery pretty'"
      ]
     },
     "execution_count": 7,
     "metadata": {},
     "output_type": "execute_result"
    }
   ],
   "execution_count": 7
  },
  {
   "metadata": {
    "ExecuteTime": {
     "end_time": "2025-01-08T17:22:56.553034Z",
     "start_time": "2025-01-08T17:22:56.201023Z"
    }
   },
   "cell_type": "code",
   "source": "df['text_'] = remove_stopwords(df['text_'])",
   "id": "d29e82990cb55068",
   "outputs": [],
   "execution_count": 8
  },
  {
   "metadata": {
    "ExecuteTime": {
     "end_time": "2025-01-08T17:22:59.240824Z",
     "start_time": "2025-01-08T17:22:56.554251Z"
    }
   },
   "cell_type": "code",
   "source": "df['text_'] = text_lemmatize(df['text_'])",
   "id": "e3f6d5d55ecd5ab6",
   "outputs": [],
   "execution_count": 9
  },
  {
   "metadata": {
    "ExecuteTime": {
     "end_time": "2025-01-08T17:23:01.038616Z",
     "start_time": "2025-01-08T17:22:59.240824Z"
    }
   },
   "cell_type": "code",
   "source": [
    "df2 = pd.DataFrame(tfidf(df['text_']))\n",
    "\n",
    "df2.head()"
   ],
   "id": "31cfc627101f958c",
   "outputs": [
    {
     "data": {
      "text/plain": [
       "                                                   0\n",
       "0  <Compressed Sparse Row sparse matrix of dtype ...\n",
       "1  <Compressed Sparse Row sparse matrix of dtype ...\n",
       "2  <Compressed Sparse Row sparse matrix of dtype ...\n",
       "3  <Compressed Sparse Row sparse matrix of dtype ...\n",
       "4  <Compressed Sparse Row sparse matrix of dtype ..."
      ],
      "text/html": [
       "<div>\n",
       "<style scoped>\n",
       "    .dataframe tbody tr th:only-of-type {\n",
       "        vertical-align: middle;\n",
       "    }\n",
       "\n",
       "    .dataframe tbody tr th {\n",
       "        vertical-align: top;\n",
       "    }\n",
       "\n",
       "    .dataframe thead th {\n",
       "        text-align: right;\n",
       "    }\n",
       "</style>\n",
       "<table border=\"1\" class=\"dataframe\">\n",
       "  <thead>\n",
       "    <tr style=\"text-align: right;\">\n",
       "      <th></th>\n",
       "      <th>0</th>\n",
       "    </tr>\n",
       "  </thead>\n",
       "  <tbody>\n",
       "    <tr>\n",
       "      <th>0</th>\n",
       "      <td>&lt;Compressed Sparse Row sparse matrix of dtype ...</td>\n",
       "    </tr>\n",
       "    <tr>\n",
       "      <th>1</th>\n",
       "      <td>&lt;Compressed Sparse Row sparse matrix of dtype ...</td>\n",
       "    </tr>\n",
       "    <tr>\n",
       "      <th>2</th>\n",
       "      <td>&lt;Compressed Sparse Row sparse matrix of dtype ...</td>\n",
       "    </tr>\n",
       "    <tr>\n",
       "      <th>3</th>\n",
       "      <td>&lt;Compressed Sparse Row sparse matrix of dtype ...</td>\n",
       "    </tr>\n",
       "    <tr>\n",
       "      <th>4</th>\n",
       "      <td>&lt;Compressed Sparse Row sparse matrix of dtype ...</td>\n",
       "    </tr>\n",
       "  </tbody>\n",
       "</table>\n",
       "</div>"
      ]
     },
     "execution_count": 10,
     "metadata": {},
     "output_type": "execute_result"
    }
   ],
   "execution_count": 10
  }
 ],
 "metadata": {
  "kernelspec": {
   "display_name": "Python 3",
   "language": "python",
   "name": "python3"
  },
  "language_info": {
   "codemirror_mode": {
    "name": "ipython",
    "version": 2
   },
   "file_extension": ".py",
   "mimetype": "text/x-python",
   "name": "python",
   "nbconvert_exporter": "python",
   "pygments_lexer": "ipython2",
   "version": "2.7.6"
  }
 },
 "nbformat": 4,
 "nbformat_minor": 5
}
